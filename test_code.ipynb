{
 "cells": [
  {
   "cell_type": "code",
   "execution_count": 1,
   "id": "endangered-romantic",
   "metadata": {},
   "outputs": [],
   "source": [
    "import numpy as np\n",
    "import pandas as pd\n",
    "import matplotlib.pyplot as plt\n",
    "import seaborn as sns\n",
    "import yfinance as yf\n",
    "import streamlit as st"
   ]
  },
  {
   "cell_type": "code",
   "execution_count": 6,
   "id": "dynamic-dietary",
   "metadata": {},
   "outputs": [],
   "source": [
    "tickers_csv = pd.read_csv('tics3.csv')"
   ]
  },
  {
   "cell_type": "code",
   "execution_count": 137,
   "id": "dried-holocaust",
   "metadata": {},
   "outputs": [],
   "source": [
    "tic = yf.Ticker('NOK')"
   ]
  },
  {
   "cell_type": "code",
   "execution_count": 138,
   "id": "entertaining-brooklyn",
   "metadata": {},
   "outputs": [
    {
     "data": {
      "text/plain": [
       "yfinance.Ticker object <NOK>"
      ]
     },
     "execution_count": 138,
     "metadata": {},
     "output_type": "execute_result"
    }
   ],
   "source": [
    "tic"
   ]
  },
  {
   "cell_type": "code",
   "execution_count": 139,
   "id": "static-matter",
   "metadata": {},
   "outputs": [
    {
     "data": {
      "text/plain": [
       "{'zip': '02610',\n",
       " 'sector': 'Technology',\n",
       " 'fullTimeEmployees': 92039,\n",
       " 'longBusinessSummary': 'Nokia Corporation provides mobile and fixed network solutions worldwide. The company operates through four segments: Mobile Networks, Network Infrastructure, Cloud and Network Services, and Nokia Technologies. It focuses on mobile radio including macro radio, small cells, and cloud native radio solutions for communications service providers and enterprises; and provides network planning and optimization, network implementation, and systems integration, as well as company-wide managed services. The company also offers fixed networking solutions, such as copper and fiber access products, solutions, and services. In addition, it provides network infrastructure and professional services for mobile networks; and managed services for the fixed, mobile, Internet protocol (IP), and optical domains. Further, the company offers network planning, implementation, operation, and maintenance services. Additionally, it provides IP/optical networking solutions, including IP routing and optical transport systems, software, and services; software solutions, such as customer experience management, network operations and management, communications and collaborations, and policy and charging, as well as cloud, IoT, security, and analytics platforms; and submarine networks and radiofrequency systems. Nokia Corporation was founded in 1865 and is headquartered in Espoo, Finland.',\n",
       " 'city': 'Espoo',\n",
       " 'phone': '358 1044 88000',\n",
       " 'country': 'Finland',\n",
       " 'companyOfficers': [],\n",
       " 'website': 'http://www.nokia.com',\n",
       " 'maxAge': 1,\n",
       " 'address1': 'Karakaari 7',\n",
       " 'fax': '358 1044 81002',\n",
       " 'industry': 'Communication Equipment',\n",
       " 'ebitdaMargins': 0.14652,\n",
       " 'profitMargins': -0.08522,\n",
       " 'grossMargins': 0.40344003,\n",
       " 'operatingCashflow': 2702000128,\n",
       " 'revenueGrowth': 0.043,\n",
       " 'operatingMargins': 0.10699,\n",
       " 'ebitda': 3257999872,\n",
       " 'targetLowPrice': 5.34,\n",
       " 'recommendationKey': 'buy',\n",
       " 'grossProfits': 8586000000,\n",
       " 'freeCashflow': 2659875072,\n",
       " 'targetMedianPrice': 7.3,\n",
       " 'currentPrice': 5.94,\n",
       " 'earningsGrowth': 3.819,\n",
       " 'currentRatio': 1.579,\n",
       " 'returnOnAssets': 0.03901,\n",
       " 'numberOfAnalystOpinions': 7,\n",
       " 'targetMeanPrice': 7.21,\n",
       " 'debtToEquity': 42.498,\n",
       " 'returnOnEquity': -0.12638,\n",
       " 'targetHighPrice': 8.32,\n",
       " 'totalCash': 8933999616,\n",
       " 'totalDebt': 6093000192,\n",
       " 'totalRevenue': 22236000256,\n",
       " 'totalCashPerShare': 1.587,\n",
       " 'financialCurrency': 'EUR',\n",
       " 'revenuePerShare': 3.956,\n",
       " 'quickRatio': 1.295,\n",
       " 'recommendationMean': 2.4,\n",
       " 'exchange': 'NYQ',\n",
       " 'shortName': 'Nokia Corporation Sponsored',\n",
       " 'longName': 'Nokia Corporation',\n",
       " 'exchangeTimezoneName': 'America/New_York',\n",
       " 'exchangeTimezoneShortName': 'EDT',\n",
       " 'isEsgPopulated': False,\n",
       " 'gmtOffSetMilliseconds': '-14400000',\n",
       " 'quoteType': 'EQUITY',\n",
       " 'symbol': 'NOK',\n",
       " 'messageBoardId': 'finmb_205573',\n",
       " 'market': 'us_market',\n",
       " 'annualHoldingsTurnover': None,\n",
       " 'enterpriseToRevenue': 1.413,\n",
       " 'beta3Year': None,\n",
       " 'enterpriseToEbitda': 9.643,\n",
       " '52WeekChange': 0.19253433,\n",
       " 'morningStarRiskRating': None,\n",
       " 'forwardEps': 0.38,\n",
       " 'revenueQuarterlyGrowth': None,\n",
       " 'sharesOutstanding': 5629329920,\n",
       " 'fundInceptionDate': None,\n",
       " 'annualReportExpenseRatio': None,\n",
       " 'totalAssets': None,\n",
       " 'bookValue': 2.531,\n",
       " 'sharesShort': 33345246,\n",
       " 'sharesPercentSharesOut': 0.0058999998,\n",
       " 'fundFamily': None,\n",
       " 'lastFiscalYearEnd': 1609372800,\n",
       " 'heldPercentInstitutions': 0.08209,\n",
       " 'netIncomeToCommon': -1884000000,\n",
       " 'trailingEps': -0.398,\n",
       " 'lastDividendValue': None,\n",
       " 'SandP52WeekChange': 0.31953692,\n",
       " 'priceToBook': 2.3468986,\n",
       " 'heldPercentInsiders': 8.0000005e-05,\n",
       " 'nextFiscalYearEnd': 1672444800,\n",
       " 'yield': None,\n",
       " 'mostRecentQuarter': 1625011200,\n",
       " 'shortRatio': 1.03,\n",
       " 'sharesShortPreviousMonthDate': 1625011200,\n",
       " 'floatShares': 4641255630,\n",
       " 'beta': 0.575757,\n",
       " 'enterpriseValue': 31418341376,\n",
       " 'priceHint': 2,\n",
       " 'threeYearAverageReturn': None,\n",
       " 'lastSplitDate': None,\n",
       " 'lastSplitFactor': None,\n",
       " 'legalType': None,\n",
       " 'lastDividendDate': None,\n",
       " 'morningStarOverallRating': None,\n",
       " 'earningsQuarterlyGrowth': 2.66,\n",
       " 'priceToSalesTrailing12Months': 1.5099771,\n",
       " 'dateShortInterest': 1627603200,\n",
       " 'pegRatio': 1.05,\n",
       " 'ytdReturn': None,\n",
       " 'forwardPE': 15.631579,\n",
       " 'lastCapGain': None,\n",
       " 'shortPercentOfFloat': None,\n",
       " 'sharesShortPriorMonth': 29064391,\n",
       " 'impliedSharesOutstanding': None,\n",
       " 'category': None,\n",
       " 'fiveYearAverageReturn': None,\n",
       " 'previousClose': 6.07,\n",
       " 'regularMarketOpen': 6.03,\n",
       " 'twoHundredDayAverage': 4.8373914,\n",
       " 'trailingAnnualDividendYield': 0.036408566,\n",
       " 'payoutRatio': 0,\n",
       " 'volume24Hr': None,\n",
       " 'regularMarketDayHigh': 6.06,\n",
       " 'navPrice': None,\n",
       " 'averageDailyVolume10Day': 16776366,\n",
       " 'regularMarketPreviousClose': 6.07,\n",
       " 'fiftyDayAverage': 5.788,\n",
       " 'trailingAnnualDividendRate': 0.221,\n",
       " 'open': 6.03,\n",
       " 'toCurrency': None,\n",
       " 'averageVolume10days': 16776366,\n",
       " 'expireDate': None,\n",
       " 'algorithm': None,\n",
       " 'dividendRate': None,\n",
       " 'exDividendDate': 1564358400,\n",
       " 'circulatingSupply': None,\n",
       " 'startDate': None,\n",
       " 'regularMarketDayLow': 5.9,\n",
       " 'currency': 'USD',\n",
       " 'regularMarketVolume': 21992574,\n",
       " 'lastMarket': None,\n",
       " 'maxSupply': None,\n",
       " 'openInterest': None,\n",
       " 'marketCap': 33575849984,\n",
       " 'volumeAllCurrencies': None,\n",
       " 'strikePrice': None,\n",
       " 'averageVolume': 33623745,\n",
       " 'dayLow': 5.9,\n",
       " 'ask': 5.93,\n",
       " 'askSize': 3000,\n",
       " 'volume': 21992574,\n",
       " 'fiftyTwoWeekHigh': 9.79,\n",
       " 'fromCurrency': None,\n",
       " 'fiveYearAvgDividendYield': None,\n",
       " 'fiftyTwoWeekLow': 3.21,\n",
       " 'bid': 5.92,\n",
       " 'tradeable': False,\n",
       " 'dividendYield': None,\n",
       " 'bidSize': 34100,\n",
       " 'dayHigh': 6.06,\n",
       " 'regularMarketPrice': 5.94,\n",
       " 'logo_url': 'https://logo.clearbit.com/nokia.com'}"
      ]
     },
     "execution_count": 139,
     "metadata": {},
     "output_type": "execute_result"
    }
   ],
   "source": [
    "tic.info"
   ]
  },
  {
   "cell_type": "code",
   "execution_count": 101,
   "id": "social-convention",
   "metadata": {},
   "outputs": [
    {
     "data": {
      "text/plain": [
       "'13.76%'"
      ]
     },
     "execution_count": 101,
     "metadata": {},
     "output_type": "execute_result"
    }
   ],
   "source": [
    "returnOnAssets = str(round(tic.info['returnOnAssets']*100,2)) + '%'\n",
    "returnOnAssets"
   ]
  },
  {
   "cell_type": "code",
   "execution_count": 103,
   "id": "unknown-festival",
   "metadata": {},
   "outputs": [
    {
     "data": {
      "text/plain": [
       "'292.355'"
      ]
     },
     "execution_count": 103,
     "metadata": {},
     "output_type": "execute_result"
    }
   ],
   "source": [
    "str(tic.info['currentPrice'])"
   ]
  },
  {
   "cell_type": "code",
   "execution_count": 104,
   "id": "indian-circus",
   "metadata": {},
   "outputs": [
    {
     "data": {
      "text/plain": [
       "0.486"
      ]
     },
     "execution_count": 104,
     "metadata": {},
     "output_type": "execute_result"
    }
   ],
   "source": [
    "tic.info['earningsGrowth']"
   ]
  },
  {
   "cell_type": "code",
   "execution_count": 105,
   "id": "emotional-tongue",
   "metadata": {},
   "outputs": [
    {
     "data": {
      "text/plain": [
       "'48.6%'"
      ]
     },
     "execution_count": 105,
     "metadata": {},
     "output_type": "execute_result"
    }
   ],
   "source": [
    "y_earningsGrowth = str(round(tic.info['earningsGrowth']*100,3)) + '%'\n",
    "y_earningsGrowth"
   ]
  },
  {
   "cell_type": "code",
   "execution_count": 106,
   "id": "buried-numbers",
   "metadata": {},
   "outputs": [
    {
     "data": {
      "text/plain": [
       "'47.079%'"
      ]
     },
     "execution_count": 106,
     "metadata": {},
     "output_type": "execute_result"
    }
   ],
   "source": [
    "y_returnOnEquity = str(round(tic.info['returnOnEquity']*100,3)) + '%'\n",
    "y_returnOnEquity"
   ]
  },
  {
   "cell_type": "code",
   "execution_count": 107,
   "id": "indonesian-thinking",
   "metadata": {},
   "outputs": [
    {
     "data": {
      "text/plain": [
       "'2.08'"
      ]
     },
     "execution_count": 107,
     "metadata": {},
     "output_type": "execute_result"
    }
   ],
   "source": [
    "str(tic.info['currentRatio'])"
   ]
  },
  {
   "cell_type": "code",
   "execution_count": 109,
   "id": "loose-officer",
   "metadata": {},
   "outputs": [
    {
     "data": {
      "text/plain": [
       "'57.947'"
      ]
     },
     "execution_count": 109,
     "metadata": {},
     "output_type": "execute_result"
    }
   ],
   "source": [
    "str(round(tic.info['debtToEquity'],3))"
   ]
  },
  {
   "cell_type": "code",
   "execution_count": 10,
   "id": "spanish-corpus",
   "metadata": {},
   "outputs": [
    {
     "data": {
      "text/plain": [
       "'Microsoft Corporation develops, licenses, and supports software, services, devices, and solutions worldwide. Its Productivity and Business Processes segment offers Office, Exchange, SharePoint, Microsoft Teams, Office 365 Security and Compliance, and Skype for Business, as well as related Client Access Licenses (CAL); Skype, Outlook.com, OneDrive, and LinkedIn; and Dynamics 365, a set of cloud-based and on-premises business solutions for small and medium businesses, organizations, and enterprise divisions. Its Intelligent Cloud segment licenses SQL, Windows Servers, Visual Studio, System Center, and related CALs; GitHub that provides a collaboration platform and code hosting service for developers; and Azure, a cloud platform. It also offers support services and Microsoft consulting services to assist customers in developing, deploying, and managing Microsoft server and desktop solutions; and training and certification to developers and IT professionals on Microsoft products. Its More Personal Computing segment provides Windows original equipment manufacturer (OEM) licensing and other non-volume licensing of the Windows operating system; Windows Commercial, such as volume licensing of the Windows operating system, Windows cloud services, and other Windows commercial offerings; patent licensing; Windows Internet of Things; and MSN advertising. It also offers Surface, PC accessories, PCs, tablets, gaming and entertainment consoles, and other devices; Gaming, including Xbox hardware, and Xbox content and services; video games and third-party video game royalties; and Search, including Bing and Microsoft advertising. It sells its products through OEMs, distributors, and resellers; and directly through digital marketplaces, online stores, and retail stores. It has a collaboration with Dynatrace, Inc., Morgan Stanley, Micro Focus, WPP plc, ACI Worldwide, Inc., and iCIMS, Inc. Microsoft Corporation was founded in 1975 and is headquartered in Redmond, Washington.'"
      ]
     },
     "execution_count": 10,
     "metadata": {},
     "output_type": "execute_result"
    }
   ],
   "source": [
    "tic.info['longBusinessSummary']"
   ]
  },
  {
   "cell_type": "code",
   "execution_count": 11,
   "id": "australian-extra",
   "metadata": {},
   "outputs": [
    {
     "data": {
      "text/plain": [
       "Date\n",
       "2003-02-19    0.08\n",
       "2003-10-15    0.16\n",
       "2004-08-23    0.08\n",
       "2004-11-15    3.08\n",
       "2005-02-15    0.08\n",
       "              ... \n",
       "2020-05-20    0.51\n",
       "2020-08-19    0.51\n",
       "2020-11-18    0.56\n",
       "2021-02-17    0.56\n",
       "2021-05-19    0.56\n",
       "Name: Dividends, Length: 70, dtype: float64"
      ]
     },
     "execution_count": 11,
     "metadata": {},
     "output_type": "execute_result"
    }
   ],
   "source": [
    "tic.dividends"
   ]
  },
  {
   "cell_type": "code",
   "execution_count": 12,
   "id": "olive-layer",
   "metadata": {},
   "outputs": [
    {
     "data": {
      "text/plain": [
       "292.355"
      ]
     },
     "execution_count": 12,
     "metadata": {},
     "output_type": "execute_result"
    }
   ],
   "source": [
    "tic.info['currentPrice']"
   ]
  },
  {
   "cell_type": "code",
   "execution_count": 51,
   "id": "registered-lobby",
   "metadata": {},
   "outputs": [],
   "source": [
    "hist = tic.history(period='max')"
   ]
  },
  {
   "cell_type": "code",
   "execution_count": 52,
   "id": "wireless-chemistry",
   "metadata": {},
   "outputs": [
    {
     "data": {
      "text/html": [
       "<div>\n",
       "<style scoped>\n",
       "    .dataframe tbody tr th:only-of-type {\n",
       "        vertical-align: middle;\n",
       "    }\n",
       "\n",
       "    .dataframe tbody tr th {\n",
       "        vertical-align: top;\n",
       "    }\n",
       "\n",
       "    .dataframe thead th {\n",
       "        text-align: right;\n",
       "    }\n",
       "</style>\n",
       "<table border=\"1\" class=\"dataframe\">\n",
       "  <thead>\n",
       "    <tr style=\"text-align: right;\">\n",
       "      <th></th>\n",
       "      <th>Open</th>\n",
       "      <th>High</th>\n",
       "      <th>Low</th>\n",
       "      <th>Close</th>\n",
       "      <th>Volume</th>\n",
       "      <th>Dividends</th>\n",
       "      <th>Stock Splits</th>\n",
       "    </tr>\n",
       "    <tr>\n",
       "      <th>Date</th>\n",
       "      <th></th>\n",
       "      <th></th>\n",
       "      <th></th>\n",
       "      <th></th>\n",
       "      <th></th>\n",
       "      <th></th>\n",
       "      <th></th>\n",
       "    </tr>\n",
       "  </thead>\n",
       "  <tbody>\n",
       "    <tr>\n",
       "      <th>1986-03-13</th>\n",
       "      <td>0.056108</td>\n",
       "      <td>0.064359</td>\n",
       "      <td>0.056108</td>\n",
       "      <td>0.061608</td>\n",
       "      <td>1031788800</td>\n",
       "      <td>0.0</td>\n",
       "      <td>0.0</td>\n",
       "    </tr>\n",
       "    <tr>\n",
       "      <th>1986-03-14</th>\n",
       "      <td>0.061608</td>\n",
       "      <td>0.064909</td>\n",
       "      <td>0.061608</td>\n",
       "      <td>0.063809</td>\n",
       "      <td>308160000</td>\n",
       "      <td>0.0</td>\n",
       "      <td>0.0</td>\n",
       "    </tr>\n",
       "    <tr>\n",
       "      <th>1986-03-17</th>\n",
       "      <td>0.063809</td>\n",
       "      <td>0.065459</td>\n",
       "      <td>0.063809</td>\n",
       "      <td>0.064909</td>\n",
       "      <td>133171200</td>\n",
       "      <td>0.0</td>\n",
       "      <td>0.0</td>\n",
       "    </tr>\n",
       "    <tr>\n",
       "      <th>1986-03-18</th>\n",
       "      <td>0.064909</td>\n",
       "      <td>0.065459</td>\n",
       "      <td>0.062708</td>\n",
       "      <td>0.063258</td>\n",
       "      <td>67766400</td>\n",
       "      <td>0.0</td>\n",
       "      <td>0.0</td>\n",
       "    </tr>\n",
       "    <tr>\n",
       "      <th>1986-03-19</th>\n",
       "      <td>0.063258</td>\n",
       "      <td>0.063809</td>\n",
       "      <td>0.061608</td>\n",
       "      <td>0.062158</td>\n",
       "      <td>47894400</td>\n",
       "      <td>0.0</td>\n",
       "      <td>0.0</td>\n",
       "    </tr>\n",
       "    <tr>\n",
       "      <th>...</th>\n",
       "      <td>...</td>\n",
       "      <td>...</td>\n",
       "      <td>...</td>\n",
       "      <td>...</td>\n",
       "      <td>...</td>\n",
       "      <td>...</td>\n",
       "      <td>...</td>\n",
       "    </tr>\n",
       "    <tr>\n",
       "      <th>2021-08-11</th>\n",
       "      <td>287.209991</td>\n",
       "      <td>288.660004</td>\n",
       "      <td>285.859985</td>\n",
       "      <td>286.950012</td>\n",
       "      <td>13955900</td>\n",
       "      <td>0.0</td>\n",
       "      <td>0.0</td>\n",
       "    </tr>\n",
       "    <tr>\n",
       "      <th>2021-08-12</th>\n",
       "      <td>286.630005</td>\n",
       "      <td>289.970001</td>\n",
       "      <td>286.339996</td>\n",
       "      <td>289.809998</td>\n",
       "      <td>14561300</td>\n",
       "      <td>0.0</td>\n",
       "      <td>0.0</td>\n",
       "    </tr>\n",
       "    <tr>\n",
       "      <th>2021-08-13</th>\n",
       "      <td>289.480011</td>\n",
       "      <td>292.899994</td>\n",
       "      <td>289.299988</td>\n",
       "      <td>292.850006</td>\n",
       "      <td>18231400</td>\n",
       "      <td>0.0</td>\n",
       "      <td>0.0</td>\n",
       "    </tr>\n",
       "    <tr>\n",
       "      <th>2021-08-16</th>\n",
       "      <td>293.190002</td>\n",
       "      <td>294.820007</td>\n",
       "      <td>290.019989</td>\n",
       "      <td>294.600006</td>\n",
       "      <td>22507600</td>\n",
       "      <td>0.0</td>\n",
       "      <td>0.0</td>\n",
       "    </tr>\n",
       "    <tr>\n",
       "      <th>2021-08-17</th>\n",
       "      <td>292.390015</td>\n",
       "      <td>293.429993</td>\n",
       "      <td>291.079987</td>\n",
       "      <td>292.220001</td>\n",
       "      <td>11147807</td>\n",
       "      <td>0.0</td>\n",
       "      <td>0.0</td>\n",
       "    </tr>\n",
       "  </tbody>\n",
       "</table>\n",
       "<p>8931 rows × 7 columns</p>\n",
       "</div>"
      ],
      "text/plain": [
       "                  Open        High         Low       Close      Volume  \\\n",
       "Date                                                                     \n",
       "1986-03-13    0.056108    0.064359    0.056108    0.061608  1031788800   \n",
       "1986-03-14    0.061608    0.064909    0.061608    0.063809   308160000   \n",
       "1986-03-17    0.063809    0.065459    0.063809    0.064909   133171200   \n",
       "1986-03-18    0.064909    0.065459    0.062708    0.063258    67766400   \n",
       "1986-03-19    0.063258    0.063809    0.061608    0.062158    47894400   \n",
       "...                ...         ...         ...         ...         ...   \n",
       "2021-08-11  287.209991  288.660004  285.859985  286.950012    13955900   \n",
       "2021-08-12  286.630005  289.970001  286.339996  289.809998    14561300   \n",
       "2021-08-13  289.480011  292.899994  289.299988  292.850006    18231400   \n",
       "2021-08-16  293.190002  294.820007  290.019989  294.600006    22507600   \n",
       "2021-08-17  292.390015  293.429993  291.079987  292.220001    11147807   \n",
       "\n",
       "            Dividends  Stock Splits  \n",
       "Date                                 \n",
       "1986-03-13        0.0           0.0  \n",
       "1986-03-14        0.0           0.0  \n",
       "1986-03-17        0.0           0.0  \n",
       "1986-03-18        0.0           0.0  \n",
       "1986-03-19        0.0           0.0  \n",
       "...               ...           ...  \n",
       "2021-08-11        0.0           0.0  \n",
       "2021-08-12        0.0           0.0  \n",
       "2021-08-13        0.0           0.0  \n",
       "2021-08-16        0.0           0.0  \n",
       "2021-08-17        0.0           0.0  \n",
       "\n",
       "[8931 rows x 7 columns]"
      ]
     },
     "execution_count": 52,
     "metadata": {},
     "output_type": "execute_result"
    }
   ],
   "source": [
    "hist"
   ]
  },
  {
   "cell_type": "code",
   "execution_count": 15,
   "id": "filled-funds",
   "metadata": {},
   "outputs": [
    {
     "data": {
      "text/plain": [
       "8931"
      ]
     },
     "execution_count": 15,
     "metadata": {},
     "output_type": "execute_result"
    }
   ],
   "source": [
    "len(hist)"
   ]
  },
  {
   "cell_type": "code",
   "execution_count": 16,
   "id": "brutal-elite",
   "metadata": {},
   "outputs": [
    {
     "data": {
      "image/png": "[encoded data removed]",
      "text/plain": [
       "<Figure size 432x288 with 1 Axes>"
      ]
     },
     "metadata": {
      "needs_background": "light"
     },
     "output_type": "display_data"
    }
   ],
   "source": [
    "sns.lineplot(data=hist, x='Date', y='Close');"
   ]
  },
  {
   "cell_type": "code",
   "execution_count": null,
   "id": "unauthorized-generation",
   "metadata": {},
   "outputs": [],
   "source": [
    "sns.lineplot(data=hist, x='Date', y='Close')    \n",
    "st.pyplot()"
   ]
  },
  {
   "cell_type": "code",
   "execution_count": 30,
   "id": "unlikely-gentleman",
   "metadata": {},
   "outputs": [
    {
     "data": {
      "text/html": [
       "<div>\n",
       "<style scoped>\n",
       "    .dataframe tbody tr th:only-of-type {\n",
       "        vertical-align: middle;\n",
       "    }\n",
       "\n",
       "    .dataframe tbody tr th {\n",
       "        vertical-align: top;\n",
       "    }\n",
       "\n",
       "    .dataframe thead th {\n",
       "        text-align: right;\n",
       "    }\n",
       "</style>\n",
       "<table border=\"1\" class=\"dataframe\">\n",
       "  <thead>\n",
       "    <tr style=\"text-align: right;\">\n",
       "      <th></th>\n",
       "      <th>Date</th>\n",
       "      <th>Close</th>\n",
       "    </tr>\n",
       "  </thead>\n",
       "  <tbody>\n",
       "    <tr>\n",
       "      <th>0</th>\n",
       "      <td>2020-08-14</td>\n",
       "      <td>206.896698</td>\n",
       "    </tr>\n",
       "    <tr>\n",
       "      <th>1</th>\n",
       "      <td>2020-08-17</td>\n",
       "      <td>208.263489</td>\n",
       "    </tr>\n",
       "    <tr>\n",
       "      <th>2</th>\n",
       "      <td>2020-08-18</td>\n",
       "      <td>209.461884</td>\n",
       "    </tr>\n",
       "    <tr>\n",
       "      <th>3</th>\n",
       "      <td>2020-08-19</td>\n",
       "      <td>208.191086</td>\n",
       "    </tr>\n",
       "    <tr>\n",
       "      <th>4</th>\n",
       "      <td>2020-08-20</td>\n",
       "      <td>213.035965</td>\n",
       "    </tr>\n",
       "    <tr>\n",
       "      <th>...</th>\n",
       "      <td>...</td>\n",
       "      <td>...</td>\n",
       "    </tr>\n",
       "    <tr>\n",
       "      <th>247</th>\n",
       "      <td>2021-08-09</td>\n",
       "      <td>288.329987</td>\n",
       "    </tr>\n",
       "    <tr>\n",
       "      <th>248</th>\n",
       "      <td>2021-08-10</td>\n",
       "      <td>286.440002</td>\n",
       "    </tr>\n",
       "    <tr>\n",
       "      <th>249</th>\n",
       "      <td>2021-08-11</td>\n",
       "      <td>286.950012</td>\n",
       "    </tr>\n",
       "    <tr>\n",
       "      <th>250</th>\n",
       "      <td>2021-08-12</td>\n",
       "      <td>289.809998</td>\n",
       "    </tr>\n",
       "    <tr>\n",
       "      <th>251</th>\n",
       "      <td>2021-08-13</td>\n",
       "      <td>292.850006</td>\n",
       "    </tr>\n",
       "  </tbody>\n",
       "</table>\n",
       "<p>252 rows × 2 columns</p>\n",
       "</div>"
      ],
      "text/plain": [
       "          Date       Close\n",
       "0   2020-08-14  206.896698\n",
       "1   2020-08-17  208.263489\n",
       "2   2020-08-18  209.461884\n",
       "3   2020-08-19  208.191086\n",
       "4   2020-08-20  213.035965\n",
       "..         ...         ...\n",
       "247 2021-08-09  288.329987\n",
       "248 2021-08-10  286.440002\n",
       "249 2021-08-11  286.950012\n",
       "250 2021-08-12  289.809998\n",
       "251 2021-08-13  292.850006\n",
       "\n",
       "[252 rows x 2 columns]"
      ]
     },
     "execution_count": 30,
     "metadata": {},
     "output_type": "execute_result"
    }
   ],
   "source": [
    "x = hist.Date\n",
    "y = hist.Close\n",
    "closing_graph_1yr = hist[['Date', 'Close']]\n",
    "closing_graph_1yr"
   ]
  },
  {
   "cell_type": "code",
   "execution_count": 53,
   "id": "instrumental-amendment",
   "metadata": {},
   "outputs": [
    {
     "data": {
      "text/html": [
       "<div>\n",
       "<style scoped>\n",
       "    .dataframe tbody tr th:only-of-type {\n",
       "        vertical-align: middle;\n",
       "    }\n",
       "\n",
       "    .dataframe tbody tr th {\n",
       "        vertical-align: top;\n",
       "    }\n",
       "\n",
       "    .dataframe thead th {\n",
       "        text-align: right;\n",
       "    }\n",
       "</style>\n",
       "<table border=\"1\" class=\"dataframe\">\n",
       "  <thead>\n",
       "    <tr style=\"text-align: right;\">\n",
       "      <th></th>\n",
       "      <th>Open</th>\n",
       "      <th>High</th>\n",
       "      <th>Low</th>\n",
       "      <th>Close</th>\n",
       "      <th>Volume</th>\n",
       "      <th>Dividends</th>\n",
       "      <th>Stock Splits</th>\n",
       "    </tr>\n",
       "    <tr>\n",
       "      <th>Date</th>\n",
       "      <th></th>\n",
       "      <th></th>\n",
       "      <th></th>\n",
       "      <th></th>\n",
       "      <th></th>\n",
       "      <th></th>\n",
       "      <th></th>\n",
       "    </tr>\n",
       "  </thead>\n",
       "  <tbody>\n",
       "    <tr>\n",
       "      <th>1986-03-13</th>\n",
       "      <td>0.056108</td>\n",
       "      <td>0.064359</td>\n",
       "      <td>0.056108</td>\n",
       "      <td>0.061608</td>\n",
       "      <td>1031788800</td>\n",
       "      <td>0.0</td>\n",
       "      <td>0.0</td>\n",
       "    </tr>\n",
       "    <tr>\n",
       "      <th>1986-03-14</th>\n",
       "      <td>0.061608</td>\n",
       "      <td>0.064909</td>\n",
       "      <td>0.061608</td>\n",
       "      <td>0.063809</td>\n",
       "      <td>308160000</td>\n",
       "      <td>0.0</td>\n",
       "      <td>0.0</td>\n",
       "    </tr>\n",
       "    <tr>\n",
       "      <th>1986-03-17</th>\n",
       "      <td>0.063809</td>\n",
       "      <td>0.065459</td>\n",
       "      <td>0.063809</td>\n",
       "      <td>0.064909</td>\n",
       "      <td>133171200</td>\n",
       "      <td>0.0</td>\n",
       "      <td>0.0</td>\n",
       "    </tr>\n",
       "    <tr>\n",
       "      <th>1986-03-18</th>\n",
       "      <td>0.064909</td>\n",
       "      <td>0.065459</td>\n",
       "      <td>0.062708</td>\n",
       "      <td>0.063258</td>\n",
       "      <td>67766400</td>\n",
       "      <td>0.0</td>\n",
       "      <td>0.0</td>\n",
       "    </tr>\n",
       "    <tr>\n",
       "      <th>1986-03-19</th>\n",
       "      <td>0.063258</td>\n",
       "      <td>0.063809</td>\n",
       "      <td>0.061608</td>\n",
       "      <td>0.062158</td>\n",
       "      <td>47894400</td>\n",
       "      <td>0.0</td>\n",
       "      <td>0.0</td>\n",
       "    </tr>\n",
       "    <tr>\n",
       "      <th>...</th>\n",
       "      <td>...</td>\n",
       "      <td>...</td>\n",
       "      <td>...</td>\n",
       "      <td>...</td>\n",
       "      <td>...</td>\n",
       "      <td>...</td>\n",
       "      <td>...</td>\n",
       "    </tr>\n",
       "    <tr>\n",
       "      <th>2021-08-11</th>\n",
       "      <td>287.209991</td>\n",
       "      <td>288.660004</td>\n",
       "      <td>285.859985</td>\n",
       "      <td>286.950012</td>\n",
       "      <td>13955900</td>\n",
       "      <td>0.0</td>\n",
       "      <td>0.0</td>\n",
       "    </tr>\n",
       "    <tr>\n",
       "      <th>2021-08-12</th>\n",
       "      <td>286.630005</td>\n",
       "      <td>289.970001</td>\n",
       "      <td>286.339996</td>\n",
       "      <td>289.809998</td>\n",
       "      <td>14561300</td>\n",
       "      <td>0.0</td>\n",
       "      <td>0.0</td>\n",
       "    </tr>\n",
       "    <tr>\n",
       "      <th>2021-08-13</th>\n",
       "      <td>289.480011</td>\n",
       "      <td>292.899994</td>\n",
       "      <td>289.299988</td>\n",
       "      <td>292.850006</td>\n",
       "      <td>18231400</td>\n",
       "      <td>0.0</td>\n",
       "      <td>0.0</td>\n",
       "    </tr>\n",
       "    <tr>\n",
       "      <th>2021-08-16</th>\n",
       "      <td>293.190002</td>\n",
       "      <td>294.820007</td>\n",
       "      <td>290.019989</td>\n",
       "      <td>294.600006</td>\n",
       "      <td>22507600</td>\n",
       "      <td>0.0</td>\n",
       "      <td>0.0</td>\n",
       "    </tr>\n",
       "    <tr>\n",
       "      <th>2021-08-17</th>\n",
       "      <td>292.390015</td>\n",
       "      <td>293.429993</td>\n",
       "      <td>291.079987</td>\n",
       "      <td>292.220001</td>\n",
       "      <td>11147807</td>\n",
       "      <td>0.0</td>\n",
       "      <td>0.0</td>\n",
       "    </tr>\n",
       "  </tbody>\n",
       "</table>\n",
       "<p>8931 rows × 7 columns</p>\n",
       "</div>"
      ],
      "text/plain": [
       "                  Open        High         Low       Close      Volume  \\\n",
       "Date                                                                     \n",
       "1986-03-13    0.056108    0.064359    0.056108    0.061608  1031788800   \n",
       "1986-03-14    0.061608    0.064909    0.061608    0.063809   308160000   \n",
       "1986-03-17    0.063809    0.065459    0.063809    0.064909   133171200   \n",
       "1986-03-18    0.064909    0.065459    0.062708    0.063258    67766400   \n",
       "1986-03-19    0.063258    0.063809    0.061608    0.062158    47894400   \n",
       "...                ...         ...         ...         ...         ...   \n",
       "2021-08-11  287.209991  288.660004  285.859985  286.950012    13955900   \n",
       "2021-08-12  286.630005  289.970001  286.339996  289.809998    14561300   \n",
       "2021-08-13  289.480011  292.899994  289.299988  292.850006    18231400   \n",
       "2021-08-16  293.190002  294.820007  290.019989  294.600006    22507600   \n",
       "2021-08-17  292.390015  293.429993  291.079987  292.220001    11147807   \n",
       "\n",
       "            Dividends  Stock Splits  \n",
       "Date                                 \n",
       "1986-03-13        0.0           0.0  \n",
       "1986-03-14        0.0           0.0  \n",
       "1986-03-17        0.0           0.0  \n",
       "1986-03-18        0.0           0.0  \n",
       "1986-03-19        0.0           0.0  \n",
       "...               ...           ...  \n",
       "2021-08-11        0.0           0.0  \n",
       "2021-08-12        0.0           0.0  \n",
       "2021-08-13        0.0           0.0  \n",
       "2021-08-16        0.0           0.0  \n",
       "2021-08-17        0.0           0.0  \n",
       "\n",
       "[8931 rows x 7 columns]"
      ]
     },
     "execution_count": 53,
     "metadata": {},
     "output_type": "execute_result"
    }
   ],
   "source": [
    "hist"
   ]
  },
  {
   "cell_type": "code",
   "execution_count": 54,
   "id": "chief-parade",
   "metadata": {},
   "outputs": [
    {
     "data": {
      "text/html": [
       "<div>\n",
       "<style scoped>\n",
       "    .dataframe tbody tr th:only-of-type {\n",
       "        vertical-align: middle;\n",
       "    }\n",
       "\n",
       "    .dataframe tbody tr th {\n",
       "        vertical-align: top;\n",
       "    }\n",
       "\n",
       "    .dataframe thead th {\n",
       "        text-align: right;\n",
       "    }\n",
       "</style>\n",
       "<table border=\"1\" class=\"dataframe\">\n",
       "  <thead>\n",
       "    <tr style=\"text-align: right;\">\n",
       "      <th></th>\n",
       "      <th>Close</th>\n",
       "    </tr>\n",
       "    <tr>\n",
       "      <th>Date</th>\n",
       "      <th></th>\n",
       "    </tr>\n",
       "  </thead>\n",
       "  <tbody>\n",
       "    <tr>\n",
       "      <th>1986-03-13</th>\n",
       "      <td>0.061608</td>\n",
       "    </tr>\n",
       "    <tr>\n",
       "      <th>1986-03-14</th>\n",
       "      <td>0.063809</td>\n",
       "    </tr>\n",
       "    <tr>\n",
       "      <th>1986-03-17</th>\n",
       "      <td>0.064909</td>\n",
       "    </tr>\n",
       "    <tr>\n",
       "      <th>1986-03-18</th>\n",
       "      <td>0.063258</td>\n",
       "    </tr>\n",
       "    <tr>\n",
       "      <th>1986-03-19</th>\n",
       "      <td>0.062158</td>\n",
       "    </tr>\n",
       "    <tr>\n",
       "      <th>...</th>\n",
       "      <td>...</td>\n",
       "    </tr>\n",
       "    <tr>\n",
       "      <th>2021-08-11</th>\n",
       "      <td>286.950012</td>\n",
       "    </tr>\n",
       "    <tr>\n",
       "      <th>2021-08-12</th>\n",
       "      <td>289.809998</td>\n",
       "    </tr>\n",
       "    <tr>\n",
       "      <th>2021-08-13</th>\n",
       "      <td>292.850006</td>\n",
       "    </tr>\n",
       "    <tr>\n",
       "      <th>2021-08-16</th>\n",
       "      <td>294.600006</td>\n",
       "    </tr>\n",
       "    <tr>\n",
       "      <th>2021-08-17</th>\n",
       "      <td>292.220001</td>\n",
       "    </tr>\n",
       "  </tbody>\n",
       "</table>\n",
       "<p>8931 rows × 1 columns</p>\n",
       "</div>"
      ],
      "text/plain": [
       "                 Close\n",
       "Date                  \n",
       "1986-03-13    0.061608\n",
       "1986-03-14    0.063809\n",
       "1986-03-17    0.064909\n",
       "1986-03-18    0.063258\n",
       "1986-03-19    0.062158\n",
       "...                ...\n",
       "2021-08-11  286.950012\n",
       "2021-08-12  289.809998\n",
       "2021-08-13  292.850006\n",
       "2021-08-16  294.600006\n",
       "2021-08-17  292.220001\n",
       "\n",
       "[8931 rows x 1 columns]"
      ]
     },
     "execution_count": 54,
     "metadata": {},
     "output_type": "execute_result"
    }
   ],
   "source": [
    "close = hist[['Close']]\n",
    "close"
   ]
  },
  {
   "cell_type": "code",
   "execution_count": 17,
   "id": "dress-payroll",
   "metadata": {},
   "outputs": [
    {
     "data": {
      "text/html": [
       "<div>\n",
       "<style scoped>\n",
       "    .dataframe tbody tr th:only-of-type {\n",
       "        vertical-align: middle;\n",
       "    }\n",
       "\n",
       "    .dataframe tbody tr th {\n",
       "        vertical-align: top;\n",
       "    }\n",
       "\n",
       "    .dataframe thead th {\n",
       "        text-align: right;\n",
       "    }\n",
       "</style>\n",
       "<table border=\"1\" class=\"dataframe\">\n",
       "  <thead>\n",
       "    <tr style=\"text-align: right;\">\n",
       "      <th></th>\n",
       "      <th>Firm</th>\n",
       "      <th>To Grade</th>\n",
       "      <th>From Grade</th>\n",
       "      <th>Action</th>\n",
       "    </tr>\n",
       "    <tr>\n",
       "      <th>Date</th>\n",
       "      <th></th>\n",
       "      <th></th>\n",
       "      <th></th>\n",
       "      <th></th>\n",
       "    </tr>\n",
       "  </thead>\n",
       "  <tbody>\n",
       "    <tr>\n",
       "      <th>2012-03-16 08:19:00</th>\n",
       "      <td>Argus Research</td>\n",
       "      <td>Buy</td>\n",
       "      <td></td>\n",
       "      <td>up</td>\n",
       "    </tr>\n",
       "    <tr>\n",
       "      <th>2012-03-19 14:00:00</th>\n",
       "      <td>Hilliard Lyons</td>\n",
       "      <td>Long-Term Buy</td>\n",
       "      <td></td>\n",
       "      <td>main</td>\n",
       "    </tr>\n",
       "    <tr>\n",
       "      <th>2012-03-22 07:03:00</th>\n",
       "      <td>Morgan Stanley</td>\n",
       "      <td>Overweight</td>\n",
       "      <td></td>\n",
       "      <td>main</td>\n",
       "    </tr>\n",
       "    <tr>\n",
       "      <th>2012-04-03 11:53:00</th>\n",
       "      <td>UBS</td>\n",
       "      <td>Buy</td>\n",
       "      <td></td>\n",
       "      <td>main</td>\n",
       "    </tr>\n",
       "    <tr>\n",
       "      <th>2012-04-20 06:18:00</th>\n",
       "      <td>Deutsche Bank</td>\n",
       "      <td>Buy</td>\n",
       "      <td></td>\n",
       "      <td>main</td>\n",
       "    </tr>\n",
       "    <tr>\n",
       "      <th>...</th>\n",
       "      <td>...</td>\n",
       "      <td>...</td>\n",
       "      <td>...</td>\n",
       "      <td>...</td>\n",
       "    </tr>\n",
       "    <tr>\n",
       "      <th>2021-07-28 14:47:46</th>\n",
       "      <td>Barclays</td>\n",
       "      <td>Overweight</td>\n",
       "      <td></td>\n",
       "      <td>main</td>\n",
       "    </tr>\n",
       "    <tr>\n",
       "      <th>2021-07-28 14:49:16</th>\n",
       "      <td>Citigroup</td>\n",
       "      <td>Buy</td>\n",
       "      <td></td>\n",
       "      <td>main</td>\n",
       "    </tr>\n",
       "    <tr>\n",
       "      <th>2021-07-28 14:51:12</th>\n",
       "      <td>Mizuho</td>\n",
       "      <td>Buy</td>\n",
       "      <td></td>\n",
       "      <td>main</td>\n",
       "    </tr>\n",
       "    <tr>\n",
       "      <th>2021-07-28 14:54:54</th>\n",
       "      <td>Credit Suisse</td>\n",
       "      <td>Outperform</td>\n",
       "      <td></td>\n",
       "      <td>main</td>\n",
       "    </tr>\n",
       "    <tr>\n",
       "      <th>2021-07-29 10:53:54</th>\n",
       "      <td>JP Morgan</td>\n",
       "      <td>Overweight</td>\n",
       "      <td></td>\n",
       "      <td>main</td>\n",
       "    </tr>\n",
       "  </tbody>\n",
       "</table>\n",
       "<p>344 rows × 4 columns</p>\n",
       "</div>"
      ],
      "text/plain": [
       "                               Firm       To Grade From Grade Action\n",
       "Date                                                                \n",
       "2012-03-16 08:19:00  Argus Research            Buy                up\n",
       "2012-03-19 14:00:00  Hilliard Lyons  Long-Term Buy              main\n",
       "2012-03-22 07:03:00  Morgan Stanley     Overweight              main\n",
       "2012-04-03 11:53:00             UBS            Buy              main\n",
       "2012-04-20 06:18:00   Deutsche Bank            Buy              main\n",
       "...                             ...            ...        ...    ...\n",
       "2021-07-28 14:47:46        Barclays     Overweight              main\n",
       "2021-07-28 14:49:16       Citigroup            Buy              main\n",
       "2021-07-28 14:51:12          Mizuho            Buy              main\n",
       "2021-07-28 14:54:54   Credit Suisse     Outperform              main\n",
       "2021-07-29 10:53:54       JP Morgan     Overweight              main\n",
       "\n",
       "[344 rows x 4 columns]"
      ]
     },
     "execution_count": 17,
     "metadata": {},
     "output_type": "execute_result"
    }
   ],
   "source": [
    "msft.recommendations"
   ]
  },
  {
   "cell_type": "code",
   "execution_count": 56,
   "id": "pursuant-speech",
   "metadata": {},
   "outputs": [
    {
     "data": {
      "text/plain": [
       "DatetimeIndex(['1986-03-13', '1986-03-14', '1986-03-17', '1986-03-18',\n",
       "               '1986-03-19', '1986-03-20', '1986-03-21', '1986-03-24',\n",
       "               '1986-03-25', '1986-03-26',\n",
       "               ...\n",
       "               '2021-08-04', '2021-08-05', '2021-08-06', '2021-08-09',\n",
       "               '2021-08-10', '2021-08-11', '2021-08-12', '2021-08-13',\n",
       "               '2021-08-16', '2021-08-17'],\n",
       "              dtype='datetime64[ns]', name='Date', length=8931, freq=None)"
      ]
     },
     "execution_count": 56,
     "metadata": {},
     "output_type": "execute_result"
    }
   ],
   "source": [
    "hist.index"
   ]
  },
  {
   "cell_type": "code",
   "execution_count": 24,
   "id": "polyphonic-devices",
   "metadata": {},
   "outputs": [
    {
     "data": {
      "text/plain": [
       "294.82000732421875"
      ]
     },
     "execution_count": 24,
     "metadata": {},
     "output_type": "execute_result"
    }
   ],
   "source": [
    "hist.loc[:, 'High'].max()"
   ]
  },
  {
   "cell_type": "code",
   "execution_count": 22,
   "id": "marine-animal",
   "metadata": {},
   "outputs": [
    {
     "data": {
      "text/plain": [
       "294.82000732421875"
      ]
     },
     "execution_count": 22,
     "metadata": {},
     "output_type": "execute_result"
    }
   ],
   "source": [
    "hist.High.max()"
   ]
  },
  {
   "cell_type": "code",
   "execution_count": 66,
   "id": "accessible-fourth",
   "metadata": {},
   "outputs": [],
   "source": [
    "x = hist.index[hist['High'] == hist.High.max()].tolist()"
   ]
  },
  {
   "cell_type": "code",
   "execution_count": 69,
   "id": "compressed-mixture",
   "metadata": {},
   "outputs": [],
   "source": [
    "x = x[0]"
   ]
  },
  {
   "cell_type": "code",
   "execution_count": 71,
   "id": "hollywood-conversation",
   "metadata": {},
   "outputs": [
    {
     "data": {
      "text/plain": [
       "pandas._libs.tslibs.timestamps.Timestamp"
      ]
     },
     "execution_count": 71,
     "metadata": {},
     "output_type": "execute_result"
    }
   ],
   "source": [
    "type(x)"
   ]
  },
  {
   "cell_type": "code",
   "execution_count": 88,
   "id": "patent-daniel",
   "metadata": {},
   "outputs": [
    {
     "data": {
      "text/plain": [
       "'Monday August 16, 2021'"
      ]
     },
     "execution_count": 88,
     "metadata": {},
     "output_type": "execute_result"
    }
   ],
   "source": [
    "day_high = x.strftime('%A %B %d, %Y')\n",
    "day_high"
   ]
  },
  {
   "cell_type": "code",
   "execution_count": 90,
   "id": "little-conducting",
   "metadata": {},
   "outputs": [
    {
     "data": {
      "text/plain": [
       "294.82"
      ]
     },
     "execution_count": 90,
     "metadata": {},
     "output_type": "execute_result"
    }
   ],
   "source": [
    "high_price = hist.High.max().round(3)\n",
    "high_price"
   ]
  },
  {
   "cell_type": "code",
   "execution_count": 92,
   "id": "stock-cycling",
   "metadata": {},
   "outputs": [
    {
     "data": {
      "text/plain": [
       "'Microsoft Corporation'"
      ]
     },
     "execution_count": 92,
     "metadata": {},
     "output_type": "execute_result"
    }
   ],
   "source": [
    "tic.info['shortName']"
   ]
  },
  {
   "cell_type": "code",
   "execution_count": 108,
   "id": "divine-rugby",
   "metadata": {},
   "outputs": [
    {
     "data": {
      "text/plain": [
       "294.82"
      ]
     },
     "execution_count": 108,
     "metadata": {},
     "output_type": "execute_result"
    }
   ],
   "source": [
    "hist.High.max().round(3)"
   ]
  },
  {
   "cell_type": "code",
   "execution_count": 111,
   "id": "inappropriate-occasion",
   "metadata": {},
   "outputs": [],
   "source": [
    "at_high_d = hist.index[hist['High'] == hist.High.max()].tolist()\n",
    "at_high_d = at_high_d[0]\n",
    "at_high_d = at_high_d.strftime('%A %B %d, %Y')"
   ]
  },
  {
   "cell_type": "code",
   "execution_count": 123,
   "id": "lesser-alexandria",
   "metadata": {},
   "outputs": [
    {
     "data": {
      "text/html": [
       "<div>\n",
       "<style scoped>\n",
       "    .dataframe tbody tr th:only-of-type {\n",
       "        vertical-align: middle;\n",
       "    }\n",
       "\n",
       "    .dataframe tbody tr th {\n",
       "        vertical-align: top;\n",
       "    }\n",
       "\n",
       "    .dataframe thead th {\n",
       "        text-align: right;\n",
       "    }\n",
       "</style>\n",
       "<table border=\"1\" class=\"dataframe\">\n",
       "  <thead>\n",
       "    <tr style=\"text-align: right;\">\n",
       "      <th></th>\n",
       "      <th>Firm</th>\n",
       "      <th>To Grade</th>\n",
       "      <th>From Grade</th>\n",
       "      <th>Action</th>\n",
       "    </tr>\n",
       "    <tr>\n",
       "      <th>Date</th>\n",
       "      <th></th>\n",
       "      <th></th>\n",
       "      <th></th>\n",
       "      <th></th>\n",
       "    </tr>\n",
       "  </thead>\n",
       "  <tbody>\n",
       "    <tr>\n",
       "      <th>2021-07-22 14:17:55</th>\n",
       "      <td>Cowen &amp; Co.</td>\n",
       "      <td>Outperform</td>\n",
       "      <td></td>\n",
       "      <td>main</td>\n",
       "    </tr>\n",
       "    <tr>\n",
       "      <th>2021-07-23 14:54:35</th>\n",
       "      <td>Barclays</td>\n",
       "      <td>Overweight</td>\n",
       "      <td></td>\n",
       "      <td>main</td>\n",
       "    </tr>\n",
       "    <tr>\n",
       "      <th>2021-07-28 11:35:54</th>\n",
       "      <td>Rosenblatt</td>\n",
       "      <td>Buy</td>\n",
       "      <td></td>\n",
       "      <td>main</td>\n",
       "    </tr>\n",
       "    <tr>\n",
       "      <th>2021-07-28 12:26:32</th>\n",
       "      <td>Stifel</td>\n",
       "      <td>Buy</td>\n",
       "      <td></td>\n",
       "      <td>main</td>\n",
       "    </tr>\n",
       "    <tr>\n",
       "      <th>2021-07-28 13:22:55</th>\n",
       "      <td>Morgan Stanley</td>\n",
       "      <td>Overweight</td>\n",
       "      <td></td>\n",
       "      <td>main</td>\n",
       "    </tr>\n",
       "    <tr>\n",
       "      <th>2021-07-28 14:47:46</th>\n",
       "      <td>Barclays</td>\n",
       "      <td>Overweight</td>\n",
       "      <td></td>\n",
       "      <td>main</td>\n",
       "    </tr>\n",
       "    <tr>\n",
       "      <th>2021-07-28 14:49:16</th>\n",
       "      <td>Citigroup</td>\n",
       "      <td>Buy</td>\n",
       "      <td></td>\n",
       "      <td>main</td>\n",
       "    </tr>\n",
       "    <tr>\n",
       "      <th>2021-07-28 14:51:12</th>\n",
       "      <td>Mizuho</td>\n",
       "      <td>Buy</td>\n",
       "      <td></td>\n",
       "      <td>main</td>\n",
       "    </tr>\n",
       "    <tr>\n",
       "      <th>2021-07-28 14:54:54</th>\n",
       "      <td>Credit Suisse</td>\n",
       "      <td>Outperform</td>\n",
       "      <td></td>\n",
       "      <td>main</td>\n",
       "    </tr>\n",
       "    <tr>\n",
       "      <th>2021-07-29 10:53:54</th>\n",
       "      <td>JP Morgan</td>\n",
       "      <td>Overweight</td>\n",
       "      <td></td>\n",
       "      <td>main</td>\n",
       "    </tr>\n",
       "  </tbody>\n",
       "</table>\n",
       "</div>"
      ],
      "text/plain": [
       "                               Firm    To Grade From Grade Action\n",
       "Date                                                             \n",
       "2021-07-22 14:17:55     Cowen & Co.  Outperform              main\n",
       "2021-07-23 14:54:35        Barclays  Overweight              main\n",
       "2021-07-28 11:35:54      Rosenblatt         Buy              main\n",
       "2021-07-28 12:26:32          Stifel         Buy              main\n",
       "2021-07-28 13:22:55  Morgan Stanley  Overweight              main\n",
       "2021-07-28 14:47:46        Barclays  Overweight              main\n",
       "2021-07-28 14:49:16       Citigroup         Buy              main\n",
       "2021-07-28 14:51:12          Mizuho         Buy              main\n",
       "2021-07-28 14:54:54   Credit Suisse  Outperform              main\n",
       "2021-07-29 10:53:54       JP Morgan  Overweight              main"
      ]
     },
     "execution_count": 123,
     "metadata": {},
     "output_type": "execute_result"
    }
   ],
   "source": [
    "recs = tic.recommendations[-10:]\n",
    "recs"
   ]
  },
  {
   "cell_type": "code",
   "execution_count": 124,
   "id": "greenhouse-friend",
   "metadata": {},
   "outputs": [
    {
     "data": {
      "text/html": [
       "<div>\n",
       "<style scoped>\n",
       "    .dataframe tbody tr th:only-of-type {\n",
       "        vertical-align: middle;\n",
       "    }\n",
       "\n",
       "    .dataframe tbody tr th {\n",
       "        vertical-align: top;\n",
       "    }\n",
       "\n",
       "    .dataframe thead th {\n",
       "        text-align: right;\n",
       "    }\n",
       "</style>\n",
       "<table border=\"1\" class=\"dataframe\">\n",
       "  <thead>\n",
       "    <tr style=\"text-align: right;\">\n",
       "      <th></th>\n",
       "      <th>Firm</th>\n",
       "      <th>To Grade</th>\n",
       "    </tr>\n",
       "    <tr>\n",
       "      <th>Date</th>\n",
       "      <th></th>\n",
       "      <th></th>\n",
       "    </tr>\n",
       "  </thead>\n",
       "  <tbody>\n",
       "    <tr>\n",
       "      <th>2021-07-22 14:17:55</th>\n",
       "      <td>Cowen &amp; Co.</td>\n",
       "      <td>Outperform</td>\n",
       "    </tr>\n",
       "    <tr>\n",
       "      <th>2021-07-23 14:54:35</th>\n",
       "      <td>Barclays</td>\n",
       "      <td>Overweight</td>\n",
       "    </tr>\n",
       "    <tr>\n",
       "      <th>2021-07-28 11:35:54</th>\n",
       "      <td>Rosenblatt</td>\n",
       "      <td>Buy</td>\n",
       "    </tr>\n",
       "    <tr>\n",
       "      <th>2021-07-28 12:26:32</th>\n",
       "      <td>Stifel</td>\n",
       "      <td>Buy</td>\n",
       "    </tr>\n",
       "    <tr>\n",
       "      <th>2021-07-28 13:22:55</th>\n",
       "      <td>Morgan Stanley</td>\n",
       "      <td>Overweight</td>\n",
       "    </tr>\n",
       "    <tr>\n",
       "      <th>2021-07-28 14:47:46</th>\n",
       "      <td>Barclays</td>\n",
       "      <td>Overweight</td>\n",
       "    </tr>\n",
       "    <tr>\n",
       "      <th>2021-07-28 14:49:16</th>\n",
       "      <td>Citigroup</td>\n",
       "      <td>Buy</td>\n",
       "    </tr>\n",
       "    <tr>\n",
       "      <th>2021-07-28 14:51:12</th>\n",
       "      <td>Mizuho</td>\n",
       "      <td>Buy</td>\n",
       "    </tr>\n",
       "    <tr>\n",
       "      <th>2021-07-28 14:54:54</th>\n",
       "      <td>Credit Suisse</td>\n",
       "      <td>Outperform</td>\n",
       "    </tr>\n",
       "    <tr>\n",
       "      <th>2021-07-29 10:53:54</th>\n",
       "      <td>JP Morgan</td>\n",
       "      <td>Overweight</td>\n",
       "    </tr>\n",
       "  </tbody>\n",
       "</table>\n",
       "</div>"
      ],
      "text/plain": [
       "                               Firm    To Grade\n",
       "Date                                           \n",
       "2021-07-22 14:17:55     Cowen & Co.  Outperform\n",
       "2021-07-23 14:54:35        Barclays  Overweight\n",
       "2021-07-28 11:35:54      Rosenblatt         Buy\n",
       "2021-07-28 12:26:32          Stifel         Buy\n",
       "2021-07-28 13:22:55  Morgan Stanley  Overweight\n",
       "2021-07-28 14:47:46        Barclays  Overweight\n",
       "2021-07-28 14:49:16       Citigroup         Buy\n",
       "2021-07-28 14:51:12          Mizuho         Buy\n",
       "2021-07-28 14:54:54   Credit Suisse  Outperform\n",
       "2021-07-29 10:53:54       JP Morgan  Overweight"
      ]
     },
     "execution_count": 124,
     "metadata": {},
     "output_type": "execute_result"
    }
   ],
   "source": [
    "recs = recs[['Firm', 'To Grade']]\n",
    "recs"
   ]
  },
  {
   "cell_type": "code",
   "execution_count": 126,
   "id": "second-indicator",
   "metadata": {},
   "outputs": [
    {
     "data": {
      "text/html": [
       "<div>\n",
       "<style scoped>\n",
       "    .dataframe tbody tr th:only-of-type {\n",
       "        vertical-align: middle;\n",
       "    }\n",
       "\n",
       "    .dataframe tbody tr th {\n",
       "        vertical-align: top;\n",
       "    }\n",
       "\n",
       "    .dataframe thead th {\n",
       "        text-align: right;\n",
       "    }\n",
       "</style>\n",
       "<table border=\"1\" class=\"dataframe\">\n",
       "  <thead>\n",
       "    <tr style=\"text-align: right;\">\n",
       "      <th></th>\n",
       "      <th>Firm</th>\n",
       "      <th>Grade</th>\n",
       "    </tr>\n",
       "    <tr>\n",
       "      <th>Date</th>\n",
       "      <th></th>\n",
       "      <th></th>\n",
       "    </tr>\n",
       "  </thead>\n",
       "  <tbody>\n",
       "    <tr>\n",
       "      <th>2021-07-22 14:17:55</th>\n",
       "      <td>Cowen &amp; Co.</td>\n",
       "      <td>Outperform</td>\n",
       "    </tr>\n",
       "    <tr>\n",
       "      <th>2021-07-23 14:54:35</th>\n",
       "      <td>Barclays</td>\n",
       "      <td>Overweight</td>\n",
       "    </tr>\n",
       "    <tr>\n",
       "      <th>2021-07-28 11:35:54</th>\n",
       "      <td>Rosenblatt</td>\n",
       "      <td>Buy</td>\n",
       "    </tr>\n",
       "    <tr>\n",
       "      <th>2021-07-28 12:26:32</th>\n",
       "      <td>Stifel</td>\n",
       "      <td>Buy</td>\n",
       "    </tr>\n",
       "    <tr>\n",
       "      <th>2021-07-28 13:22:55</th>\n",
       "      <td>Morgan Stanley</td>\n",
       "      <td>Overweight</td>\n",
       "    </tr>\n",
       "    <tr>\n",
       "      <th>2021-07-28 14:47:46</th>\n",
       "      <td>Barclays</td>\n",
       "      <td>Overweight</td>\n",
       "    </tr>\n",
       "    <tr>\n",
       "      <th>2021-07-28 14:49:16</th>\n",
       "      <td>Citigroup</td>\n",
       "      <td>Buy</td>\n",
       "    </tr>\n",
       "    <tr>\n",
       "      <th>2021-07-28 14:51:12</th>\n",
       "      <td>Mizuho</td>\n",
       "      <td>Buy</td>\n",
       "    </tr>\n",
       "    <tr>\n",
       "      <th>2021-07-28 14:54:54</th>\n",
       "      <td>Credit Suisse</td>\n",
       "      <td>Outperform</td>\n",
       "    </tr>\n",
       "    <tr>\n",
       "      <th>2021-07-29 10:53:54</th>\n",
       "      <td>JP Morgan</td>\n",
       "      <td>Overweight</td>\n",
       "    </tr>\n",
       "  </tbody>\n",
       "</table>\n",
       "</div>"
      ],
      "text/plain": [
       "                               Firm       Grade\n",
       "Date                                           \n",
       "2021-07-22 14:17:55     Cowen & Co.  Outperform\n",
       "2021-07-23 14:54:35        Barclays  Overweight\n",
       "2021-07-28 11:35:54      Rosenblatt         Buy\n",
       "2021-07-28 12:26:32          Stifel         Buy\n",
       "2021-07-28 13:22:55  Morgan Stanley  Overweight\n",
       "2021-07-28 14:47:46        Barclays  Overweight\n",
       "2021-07-28 14:49:16       Citigroup         Buy\n",
       "2021-07-28 14:51:12          Mizuho         Buy\n",
       "2021-07-28 14:54:54   Credit Suisse  Outperform\n",
       "2021-07-29 10:53:54       JP Morgan  Overweight"
      ]
     },
     "execution_count": 126,
     "metadata": {},
     "output_type": "execute_result"
    }
   ],
   "source": [
    "recs.rename(columns={\"To Grade\": \"Grade\"})\n"
   ]
  },
  {
   "cell_type": "code",
   "execution_count": 131,
   "id": "expired-puppy",
   "metadata": {},
   "outputs": [
    {
     "data": {
      "text/html": [
       "<div>\n",
       "<style scoped>\n",
       "    .dataframe tbody tr th:only-of-type {\n",
       "        vertical-align: middle;\n",
       "    }\n",
       "\n",
       "    .dataframe tbody tr th {\n",
       "        vertical-align: top;\n",
       "    }\n",
       "\n",
       "    .dataframe thead th {\n",
       "        text-align: right;\n",
       "    }\n",
       "</style>\n",
       "<table border=\"1\" class=\"dataframe\">\n",
       "  <thead>\n",
       "    <tr style=\"text-align: right;\">\n",
       "      <th></th>\n",
       "      <th>Firm</th>\n",
       "      <th>Grade</th>\n",
       "    </tr>\n",
       "    <tr>\n",
       "      <th>Date</th>\n",
       "      <th></th>\n",
       "      <th></th>\n",
       "    </tr>\n",
       "  </thead>\n",
       "  <tbody>\n",
       "    <tr>\n",
       "      <th>2020-06-05 08:51:23</th>\n",
       "      <td>Imperial Capital</td>\n",
       "      <td>In-Line</td>\n",
       "    </tr>\n",
       "    <tr>\n",
       "      <th>2020-06-11 08:52:34</th>\n",
       "      <td>Imperial Capital</td>\n",
       "      <td>In-Line</td>\n",
       "    </tr>\n",
       "    <tr>\n",
       "      <th>2020-06-17 11:43:43</th>\n",
       "      <td>Citigroup</td>\n",
       "      <td>Sell</td>\n",
       "    </tr>\n",
       "    <tr>\n",
       "      <th>2020-06-29 12:19:32</th>\n",
       "      <td>Credit Suisse</td>\n",
       "      <td>Underperform</td>\n",
       "    </tr>\n",
       "    <tr>\n",
       "      <th>2020-06-30 08:57:47</th>\n",
       "      <td>Imperial Capital</td>\n",
       "      <td>In-Line</td>\n",
       "    </tr>\n",
       "    <tr>\n",
       "      <th>2020-10-09 12:08:27</th>\n",
       "      <td>MKM Partners</td>\n",
       "      <td>Neutral</td>\n",
       "    </tr>\n",
       "    <tr>\n",
       "      <th>2020-11-03 15:19:15</th>\n",
       "      <td>MKM Partners</td>\n",
       "      <td>Neutral</td>\n",
       "    </tr>\n",
       "    <tr>\n",
       "      <th>2021-04-05 11:38:04</th>\n",
       "      <td>B. Riley FBR</td>\n",
       "      <td>Buy</td>\n",
       "    </tr>\n",
       "    <tr>\n",
       "      <th>2021-05-26 11:38:51</th>\n",
       "      <td>B. Riley Securities</td>\n",
       "      <td>Neutral</td>\n",
       "    </tr>\n",
       "    <tr>\n",
       "      <th>2021-06-04 11:19:15</th>\n",
       "      <td>Wedbush</td>\n",
       "      <td>Neutral</td>\n",
       "    </tr>\n",
       "  </tbody>\n",
       "</table>\n",
       "</div>"
      ],
      "text/plain": [
       "                                    Firm         Grade\n",
       "Date                                                  \n",
       "2020-06-05 08:51:23     Imperial Capital       In-Line\n",
       "2020-06-11 08:52:34     Imperial Capital       In-Line\n",
       "2020-06-17 11:43:43            Citigroup          Sell\n",
       "2020-06-29 12:19:32        Credit Suisse  Underperform\n",
       "2020-06-30 08:57:47     Imperial Capital       In-Line\n",
       "2020-10-09 12:08:27         MKM Partners       Neutral\n",
       "2020-11-03 15:19:15         MKM Partners       Neutral\n",
       "2021-04-05 11:38:04         B. Riley FBR           Buy\n",
       "2021-05-26 11:38:51  B. Riley Securities       Neutral\n",
       "2021-06-04 11:19:15              Wedbush       Neutral"
      ]
     },
     "execution_count": 131,
     "metadata": {},
     "output_type": "execute_result"
    }
   ],
   "source": [
    "recs = tic.recommendations[-10:]\n",
    "recs = recs[['Firm', 'To Grade']]\n",
    "recs = recs.rename(columns={'To Grade': 'Grade'})\n",
    "recs"
   ]
  },
  {
   "cell_type": "code",
   "execution_count": 135,
   "id": "dimensional-portuguese",
   "metadata": {},
   "outputs": [],
   "source": [
    "if tic.info['earningsGrowth'] != None:\n",
    "    y_earningsGrowth = str(round(tic.info['earningsGrowth']*100,3)) + '%'\n",
    "else:\n",
    "    y_earningsGrowth = 'No Data'"
   ]
  },
  {
   "cell_type": "code",
   "execution_count": 136,
   "id": "buried-nickel",
   "metadata": {},
   "outputs": [
    {
     "data": {
      "text/plain": [
       "'No Data'"
      ]
     },
     "execution_count": 136,
     "metadata": {},
     "output_type": "execute_result"
    }
   ],
   "source": [
    "y_earningsGrowth"
   ]
  },
  {
   "cell_type": "code",
   "execution_count": null,
   "id": "skilled-phrase",
   "metadata": {},
   "outputs": [],
   "source": []
  }
 ],
 "metadata": {
  "kernelspec": {
   "display_name": "Python 3",
   "language": "python",
   "name": "python3"
  },
  "language_info": {
   "codemirror_mode": {
    "name": "ipython",
    "version": 3
   },
   "file_extension": ".py",
   "mimetype": "text/x-python",
   "name": "python",
   "nbconvert_exporter": "python",
   "pygments_lexer": "ipython3",
   "version": "3.8.5"
  }
 },
 "nbformat": 4,
 "nbformat_minor": 5
}
